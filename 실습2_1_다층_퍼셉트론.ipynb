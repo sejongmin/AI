{
  "nbformat": 4,
  "nbformat_minor": 0,
  "metadata": {
    "colab": {
      "provenance": [],
      "include_colab_link": true
    },
    "kernelspec": {
      "name": "python3",
      "display_name": "Python 3"
    },
    "language_info": {
      "name": "python"
    }
  },
  "cells": [
    {
      "cell_type": "markdown",
      "metadata": {
        "id": "view-in-github",
        "colab_type": "text"
      },
      "source": [
        "<a href=\"https://colab.research.google.com/github/sejongmin/AI/blob/main/%EC%8B%A4%EC%8A%B52_1_%EB%8B%A4%EC%B8%B5_%ED%8D%BC%EC%85%89%ED%8A%B8%EB%A1%A0.ipynb\" target=\"_parent\"><img src=\"https://colab.research.google.com/assets/colab-badge.svg\" alt=\"Open In Colab\"/></a>"
      ]
    },
    {
      "cell_type": "code",
      "execution_count": null,
      "metadata": {
        "id": "4wplx-mOIWDi"
      },
      "outputs": [],
      "source": [
        "import torch\n",
        "import torch.nn as nn\n",
        "\n",
        "import numpy as np"
      ]
    },
    {
      "cell_type": "code",
      "source": [
        "inputs = np.array([[0,0],[0,1],[1,0],[1,1]], dtype='float32')\n",
        "\n",
        "targets = np.array([0,1,1,0], dtype='float32')"
      ],
      "metadata": {
        "id": "WM4bhdJsIebA"
      },
      "execution_count": null,
      "outputs": []
    },
    {
      "cell_type": "code",
      "source": [
        "inputs = torch.from_numpy(inputs)\n",
        "targets = torch.from_numpy(targets)"
      ],
      "metadata": {
        "id": "u8IUZXE0Iq0Z"
      },
      "execution_count": null,
      "outputs": []
    },
    {
      "cell_type": "code",
      "source": [
        "from torch.utils.data import TensorDataset, DataLoader\n",
        "\n",
        "dataset = TensorDataset(inputs, targets)\n",
        "loader = DataLoader(dataset, batch_size=4)"
      ],
      "metadata": {
        "id": "2L7vaY0XIuIL"
      },
      "execution_count": null,
      "outputs": []
    },
    {
      "cell_type": "code",
      "source": [
        "class Net(nn.Module):\n",
        "    def __init__(self):\n",
        "        super(Net,self).__init__()\n",
        "        self.fc1 = nn.Linear(2, 2, bias = True) #input이 2개, output이 2개 인 선형 연산을 만들어라(은닉층)\n",
        "        self.fc2 = nn.Linear(2, 1, bias = True) #input이 2개, output이 1개 인 선형 연산을 만들어라(출력층)\n",
        "    def forward(self,x):\n",
        "        x = torch.sigmoid(self.fc1(x))\n",
        "        x = torch.sigmoid(self.fc2(x))\n",
        "        return x"
      ],
      "metadata": {
        "id": "CtqGFgq4Izm2"
      },
      "execution_count": null,
      "outputs": []
    },
    {
      "cell_type": "code",
      "source": [
        "model = Net()"
      ],
      "metadata": {
        "id": "XQ2y-4htm1eN"
      },
      "execution_count": null,
      "outputs": []
    },
    {
      "cell_type": "code",
      "source": [
        "criterion = torch.nn.BCELoss()\n",
        "optimizer = torch.optim.SGD(model.parameters(), lr=1)"
      ],
      "metadata": {
        "id": "RBt2FARl4Zej"
      },
      "execution_count": null,
      "outputs": []
    },
    {
      "cell_type": "code",
      "source": [
        "for x,y in loader:\n",
        "    preds = model(x)\n",
        "    for i in range(4):\n",
        "        print(f'Prediction: {preds[i].item():.2f} / Actual target: {targets[i]:.2f}')"
      ],
      "metadata": {
        "id": "WZNqWoQjI2YA",
        "colab": {
          "base_uri": "https://localhost:8080/"
        },
        "outputId": "1204e3ba-fb9e-426b-dd2b-5fc2d696e886"
      },
      "execution_count": null,
      "outputs": [
        {
          "output_type": "stream",
          "name": "stdout",
          "text": [
            "Prediction: 0.38 / Actual target: 0.00\n",
            "Prediction: 0.39 / Actual target: 1.00\n",
            "Prediction: 0.38 / Actual target: 1.00\n",
            "Prediction: 0.39 / Actual target: 0.00\n"
          ]
        }
      ]
    },
    {
      "cell_type": "code",
      "source": [
        "epochs = 5000\n",
        "for i in range(epochs):\n",
        "    optimizer.zero_grad()\n",
        "    for x,y in loader:\n",
        "        # Generate Prediction\n",
        "        preds = model(x)\n",
        "        # Get the loss and perform backpropagation\n",
        "        loss = criterion(preds[:, 0], y)\n",
        "        loss.backward() #gredient를 구하는 함수\n",
        "        # Let's update the weights\n",
        "        optimizer.step()\n",
        "    #print(f\"Epoch {i}/{epochs}: Loss: {loss}\")"
      ],
      "metadata": {
        "id": "cZOx3DsaI3TF"
      },
      "execution_count": null,
      "outputs": []
    },
    {
      "cell_type": "code",
      "source": [
        "for x,y in loader:\n",
        "    preds = model(x)\n",
        "    for i in range(4):\n",
        "        print(f'Prediction: {preds[i].item():.2f} / Actual target: {targets[i]:.2f}')"
      ],
      "metadata": {
        "id": "yTtrCs3dbcbT",
        "colab": {
          "base_uri": "https://localhost:8080/"
        },
        "outputId": "32200f99-6e14-4d38-d19d-948e089b3b86"
      },
      "execution_count": null,
      "outputs": [
        {
          "output_type": "stream",
          "name": "stdout",
          "text": [
            "Prediction: 0.00 / Actual target: 0.00\n",
            "Prediction: 1.00 / Actual target: 1.00\n",
            "Prediction: 1.00 / Actual target: 1.00\n",
            "Prediction: 0.00 / Actual target: 0.00\n"
          ]
        }
      ]
    },
    {
      "cell_type": "code",
      "source": [
        "value = {}\n",
        "def get_value(name):\n",
        "    def hook(model, input, output):\n",
        "        value[name] = output.detach()\n",
        "    return hook\n",
        "\n",
        "model.fc1.register_forward_hook(get_value('fc1'))"
      ],
      "metadata": {
        "id": "_juL5GjNhGqF",
        "colab": {
          "base_uri": "https://localhost:8080/"
        },
        "outputId": "7e64c81a-585c-4e4d-c0c1-187ae68caef1"
      },
      "execution_count": null,
      "outputs": [
        {
          "output_type": "execute_result",
          "data": {
            "text/plain": [
              "<torch.utils.hooks.RemovableHandle at 0x7e1cb4d51c60>"
            ]
          },
          "metadata": {},
          "execution_count": 11
        }
      ]
    },
    {
      "cell_type": "code",
      "source": [
        "hook = []\n",
        "for x,y in dataset:\n",
        "    preds = model(x)\n",
        "    hook.append(torch.sigmoid(value['fc1']).detach())\n",
        "\n",
        "    print(f'Prediction: {preds.item():.2f} / Actual target: {y.item():.2f}')"
      ],
      "metadata": {
        "id": "fysXCOM8gDzF",
        "colab": {
          "base_uri": "https://localhost:8080/"
        },
        "outputId": "45b7dabc-a550-45dd-cae7-344d41efb1d0"
      },
      "execution_count": null,
      "outputs": [
        {
          "output_type": "stream",
          "name": "stdout",
          "text": [
            "Prediction: 0.00 / Actual target: 0.00\n",
            "Prediction: 1.00 / Actual target: 1.00\n",
            "Prediction: 1.00 / Actual target: 1.00\n",
            "Prediction: 0.00 / Actual target: 0.00\n"
          ]
        }
      ]
    },
    {
      "cell_type": "code",
      "source": [
        "import matplotlib.pyplot as plt\n",
        "\n",
        "x1_tmp = np.arange(-0.2,1.3,0.1)\n",
        "w_tmp = model.get_parameter('fc2.weight').detach().numpy()\n",
        "w0_tmp = model.get_parameter('fc2.bias').detach().numpy()\n",
        "x2_tmp = (-w_tmp[0][0]*x1_tmp-w0_tmp)/w_tmp[0][1]\n",
        "fig = plt.figure()\n",
        "ax = fig.add_subplot(111)\n",
        "for i in range(len(inputs)):\n",
        "    if targets[i] == 1:\n",
        "        plt.plot(hook[i][0],hook[i][1],'bx')\n",
        "    else:\n",
        "        plt.plot(hook[i][0],hook[i][1],'rd')\n",
        "plt.plot(x1_tmp,x2_tmp)\n",
        "plt.xlim([-0.2,1.2])\n",
        "plt.ylim([-0.2,1.2])\n",
        "plt.xlabel('x1')\n",
        "plt.ylabel('x2')\n",
        "ax.set_aspect('equal')\n",
        "plt.show()"
      ],
      "metadata": {
        "id": "6qXsNE1YbTY_",
        "colab": {
          "base_uri": "https://localhost:8080/",
          "height": 455
        },
        "outputId": "d0966e62-1792-4201-8cec-ce9ad579f344"
      },
      "execution_count": null,
      "outputs": [
        {
          "output_type": "display_data",
          "data": {
            "text/plain": [
              "<Figure size 640x480 with 1 Axes>"
            ],
            "image/png": "[encoded data removed]"
          },
          "metadata": {}
        }
      ]
    }
  ]
}