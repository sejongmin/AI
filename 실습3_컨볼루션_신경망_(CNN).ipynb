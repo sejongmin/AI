{
  "nbformat": 4,
  "nbformat_minor": 0,
  "metadata": {
    "colab": {
      "provenance": [],
      "include_colab_link": true
    },
    "kernelspec": {
      "name": "python3",
      "display_name": "Python 3"
    },
    "language_info": {
      "name": "python"
    }
  },
  "cells": [
    {
      "cell_type": "markdown",
      "metadata": {
        "id": "view-in-github",
        "colab_type": "text"
      },
      "source": [
        "<a href=\"https://colab.research.google.com/github/sejongmin/AI/blob/main/%EC%8B%A4%EC%8A%B53_%EC%BB%A8%EB%B3%BC%EB%A3%A8%EC%85%98_%EC%8B%A0%EA%B2%BD%EB%A7%9D_(CNN).ipynb\" target=\"_parent\"><img src=\"https://colab.research.google.com/assets/colab-badge.svg\" alt=\"Open In Colab\"/></a>"
      ]
    },
    {
      "cell_type": "code",
      "execution_count": null,
      "metadata": {
        "id": "4wplx-mOIWDi"
      },
      "outputs": [],
      "source": [
        "import torch\n",
        "import torch.nn as nn\n",
        "\n",
        "import numpy as np"
      ]
    },
    {
      "cell_type": "markdown",
      "source": [
        "## MNIST 데이터셋 불러오기"
      ],
      "metadata": {
        "id": "WtNTiAvLZGhi"
      }
    },
    {
      "cell_type": "code",
      "source": [
        "from torchvision import datasets, transforms\n",
        "from torch.utils.data import DataLoader"
      ],
      "metadata": {
        "id": "eb3z-_mmZhIH"
      },
      "execution_count": null,
      "outputs": []
    },
    {
      "cell_type": "code",
      "source": [
        "mnist_train = datasets.MNIST(root='MNIST_data/',\n",
        "                             train=True,\n",
        "                             transform=transforms.ToTensor(),\n",
        "                             download=True)\n",
        "\n",
        "mnist_test = datasets.MNIST(root='MNIST_data/',\n",
        "                            train=False,\n",
        "                            transform=transforms.ToTensor(),\n",
        "                            download=True)"
      ],
      "metadata": {
        "id": "dp43BLiVZc_x",
        "colab": {
          "base_uri": "https://localhost:8080/"
        },
        "outputId": "6c66ada9-aaf0-4c71-fecb-4722dd1cd2fb"
      },
      "execution_count": null,
      "outputs": [
        {
          "output_type": "stream",
          "name": "stdout",
          "text": [
            "Downloading http://yann.lecun.com/exdb/mnist/train-images-idx3-ubyte.gz\n",
            "Downloading http://yann.lecun.com/exdb/mnist/train-images-idx3-ubyte.gz to MNIST_data/MNIST/raw/train-images-idx3-ubyte.gz\n"
          ]
        },
        {
          "output_type": "stream",
          "name": "stderr",
          "text": [
            "100%|██████████| 9912422/9912422 [00:00<00:00, 88428104.33it/s]\n"
          ]
        },
        {
          "output_type": "stream",
          "name": "stdout",
          "text": [
            "Extracting MNIST_data/MNIST/raw/train-images-idx3-ubyte.gz to MNIST_data/MNIST/raw\n",
            "\n",
            "Downloading http://yann.lecun.com/exdb/mnist/train-labels-idx1-ubyte.gz\n",
            "Downloading http://yann.lecun.com/exdb/mnist/train-labels-idx1-ubyte.gz to MNIST_data/MNIST/raw/train-labels-idx1-ubyte.gz\n"
          ]
        },
        {
          "output_type": "stream",
          "name": "stderr",
          "text": [
            "100%|██████████| 28881/28881 [00:00<00:00, 91423165.15it/s]\n"
          ]
        },
        {
          "output_type": "stream",
          "name": "stdout",
          "text": [
            "Extracting MNIST_data/MNIST/raw/train-labels-idx1-ubyte.gz to MNIST_data/MNIST/raw\n",
            "\n",
            "Downloading http://yann.lecun.com/exdb/mnist/t10k-images-idx3-ubyte.gz\n",
            "Downloading http://yann.lecun.com/exdb/mnist/t10k-images-idx3-ubyte.gz to MNIST_data/MNIST/raw/t10k-images-idx3-ubyte.gz\n"
          ]
        },
        {
          "output_type": "stream",
          "name": "stderr",
          "text": [
            "100%|██████████| 1648877/1648877 [00:00<00:00, 67149792.18it/s]"
          ]
        },
        {
          "output_type": "stream",
          "name": "stdout",
          "text": [
            "Extracting MNIST_data/MNIST/raw/t10k-images-idx3-ubyte.gz to MNIST_data/MNIST/raw\n"
          ]
        },
        {
          "output_type": "stream",
          "name": "stderr",
          "text": [
            "\n"
          ]
        },
        {
          "output_type": "stream",
          "name": "stdout",
          "text": [
            "\n",
            "Downloading http://yann.lecun.com/exdb/mnist/t10k-labels-idx1-ubyte.gz\n",
            "Downloading http://yann.lecun.com/exdb/mnist/t10k-labels-idx1-ubyte.gz to MNIST_data/MNIST/raw/t10k-labels-idx1-ubyte.gz\n"
          ]
        },
        {
          "output_type": "stream",
          "name": "stderr",
          "text": [
            "100%|██████████| 4542/4542 [00:00<00:00, 18459814.70it/s]\n"
          ]
        },
        {
          "output_type": "stream",
          "name": "stdout",
          "text": [
            "Extracting MNIST_data/MNIST/raw/t10k-labels-idx1-ubyte.gz to MNIST_data/MNIST/raw\n",
            "\n"
          ]
        }
      ]
    },
    {
      "cell_type": "code",
      "source": [
        "mnist_train"
      ],
      "metadata": {
        "id": "COJH6VFffBFi",
        "colab": {
          "base_uri": "https://localhost:8080/"
        },
        "outputId": "8da5cc84-96be-4c0b-e293-387e83e4f677"
      },
      "execution_count": null,
      "outputs": [
        {
          "output_type": "execute_result",
          "data": {
            "text/plain": [
              "Dataset MNIST\n",
              "    Number of datapoints: 60000\n",
              "    Root location: MNIST_data/\n",
              "    Split: Train\n",
              "    StandardTransform\n",
              "Transform: ToTensor()"
            ]
          },
          "metadata": {},
          "execution_count": 4
        }
      ]
    },
    {
      "cell_type": "code",
      "source": [
        "mnist_test"
      ],
      "metadata": {
        "id": "vU1fTjzDfgze",
        "colab": {
          "base_uri": "https://localhost:8080/"
        },
        "outputId": "83a62bcb-d100-42ee-9f55-d6e9ea98f5cb"
      },
      "execution_count": null,
      "outputs": [
        {
          "output_type": "execute_result",
          "data": {
            "text/plain": [
              "Dataset MNIST\n",
              "    Number of datapoints: 10000\n",
              "    Root location: MNIST_data/\n",
              "    Split: Test\n",
              "    StandardTransform\n",
              "Transform: ToTensor()"
            ]
          },
          "metadata": {},
          "execution_count": 5
        }
      ]
    },
    {
      "cell_type": "code",
      "source": [
        "mnist_train.data.shape"
      ],
      "metadata": {
        "id": "uPqdL_uufi_y",
        "colab": {
          "base_uri": "https://localhost:8080/"
        },
        "outputId": "984be8b1-6321-43f7-be2f-9046a181ede7"
      },
      "execution_count": null,
      "outputs": [
        {
          "output_type": "execute_result",
          "data": {
            "text/plain": [
              "torch.Size([60000, 28, 28])"
            ]
          },
          "metadata": {},
          "execution_count": 6
        }
      ]
    },
    {
      "cell_type": "code",
      "source": [
        "input_dim = mnist_train.data.shape[1] * mnist_train.data.shape[2]\n",
        "output_dim = 10"
      ],
      "metadata": {
        "id": "E1l_mSRieWQu"
      },
      "execution_count": null,
      "outputs": []
    },
    {
      "cell_type": "code",
      "source": [
        "train_loader = DataLoader(dataset=mnist_train, batch_size=100, shuffle=True)\n",
        "test_loader = DataLoader(dataset=mnist_test, batch_size=100, shuffle=False)"
      ],
      "metadata": {
        "id": "WM_3B1UIZoTO"
      },
      "execution_count": null,
      "outputs": []
    },
    {
      "cell_type": "markdown",
      "source": [
        "## 다층 퍼셉트론으로 MNIST 손글씨 분류하기"
      ],
      "metadata": {
        "id": "CRRM50DUalRU"
      }
    },
    {
      "cell_type": "code",
      "source": [
        "class MLP(nn.Module):\n",
        "    def __init__(self, input_dim, output_dim):\n",
        "        super(MLP,self).__init__()\n",
        "        self.fc1 = nn.Linear(input_dim,100)\n",
        "        self.fc2 = nn.Linear(100,100)\n",
        "        self.fc3 = nn.Linear(100,output_dim)\n",
        "\n",
        "        self.relu = nn.ReLU()\n",
        "    def forward(self,x):\n",
        "        x = self.relu(self.fc1(x))\n",
        "        x = self.relu(self.fc2(x))\n",
        "        x = self.fc3(x)\n",
        "        return x\n",
        "\n",
        "MLP_classifier = MLP(input_dim, output_dim)"
      ],
      "metadata": {
        "id": "AupSHUwDa45R"
      },
      "execution_count": null,
      "outputs": []
    },
    {
      "cell_type": "code",
      "source": [
        "criterion = nn.CrossEntropyLoss() # Logsoftmax(output을 확률로 변경해줌)가 포함되어 있음\n",
        "optimizer = torch.optim.Adam(MLP_classifier.parameters(), lr=1e-2) # 최적화"
      ],
      "metadata": {
        "id": "RBt2FARl4Zej"
      },
      "execution_count": null,
      "outputs": []
    },
    {
      "cell_type": "code",
      "source": [
        "for epoch in range(10):\n",
        "    for X, y in train_loader:\n",
        "        optimizer.zero_grad()\n",
        "        X = X.view(X.size(0), -1)\n",
        "        y_pred = MLP_classifier(X)\n",
        "        loss = criterion(y_pred, y)\n",
        "        loss.backward()\n",
        "        optimizer.step()\n",
        "\n",
        "    print(\"loss of {} epoch: {}\".format(epoch, loss.item()))"
      ],
      "metadata": {
        "id": "WZNqWoQjI2YA",
        "colab": {
          "base_uri": "https://localhost:8080/"
        },
        "outputId": "7c0a8d84-8f89-4982-e214-4ac1846aeea1"
      },
      "execution_count": null,
      "outputs": [
        {
          "output_type": "stream",
          "name": "stdout",
          "text": [
            "loss of 0 epoch: 0.044610075652599335\n",
            "loss of 1 epoch: 0.16501951217651367\n",
            "loss of 2 epoch: 0.08704157918691635\n",
            "loss of 3 epoch: 0.053274668753147125\n",
            "loss of 4 epoch: 0.13130001723766327\n",
            "loss of 5 epoch: 0.024165237322449684\n",
            "loss of 6 epoch: 0.3589969575405121\n",
            "loss of 7 epoch: 0.05899108946323395\n",
            "loss of 8 epoch: 0.1964663565158844\n",
            "loss of 9 epoch: 0.02736964263021946\n"
          ]
        }
      ]
    },
    {
      "cell_type": "code",
      "source": [
        "tmp = torch.randn((100, 1, 28, 28))\n",
        "tmp.shape"
      ],
      "metadata": {
        "id": "jR900tDehDmd",
        "colab": {
          "base_uri": "https://localhost:8080/"
        },
        "outputId": "54c0f677-0686-410f-bc3f-57284bcd0336"
      },
      "execution_count": null,
      "outputs": [
        {
          "output_type": "execute_result",
          "data": {
            "text/plain": [
              "torch.Size([100, 1, 28, 28])"
            ]
          },
          "metadata": {},
          "execution_count": 12
        }
      ]
    },
    {
      "cell_type": "code",
      "source": [
        "tmp = tmp.view(tmp.size(0), -1)\n",
        "tmp.shape"
      ],
      "metadata": {
        "id": "H_llocyJhSZx",
        "colab": {
          "base_uri": "https://localhost:8080/"
        },
        "outputId": "75e4518d-d3d2-420d-af5c-39bc25efb11d"
      },
      "execution_count": null,
      "outputs": [
        {
          "output_type": "execute_result",
          "data": {
            "text/plain": [
              "torch.Size([100, 784])"
            ]
          },
          "metadata": {},
          "execution_count": 13
        }
      ]
    },
    {
      "cell_type": "code",
      "source": [
        "MLP_classifier.eval()\n",
        "test_loss = 0\n",
        "correct = 0\n",
        "with torch.no_grad():\n",
        "    for X_test, y in test_loader:\n",
        "        X_test = X_test.view(X_test.size(0), -1)\n",
        "        y_pred = MLP_classifier(X_test)\n",
        "        _, predicted = torch.max(y_pred.data, 1)\n",
        "        correct += predicted.eq(y.data.view_as(predicted)).sum()\n",
        "\n",
        "    # 정확도 출력\n",
        "    data_num = len(test_loader.dataset)  # 데이터 총 건수\n",
        "    print('\\n테스트 데이터 예측 정확도: {}/{} ({:.0f}%)\\n'.format(correct,\n",
        "                                                   data_num, 100. * correct / data_num))"
      ],
      "metadata": {
        "id": "fysXCOM8gDzF",
        "colab": {
          "base_uri": "https://localhost:8080/"
        },
        "outputId": "8b15e690-cbc0-471d-c1aa-782dbd51a6ea"
      },
      "execution_count": null,
      "outputs": [
        {
          "output_type": "stream",
          "name": "stdout",
          "text": [
            "\n",
            "테스트 데이터 예측 정확도: 9650/10000 (96%)\n",
            "\n"
          ]
        }
      ]
    },
    {
      "cell_type": "markdown",
      "source": [
        "## CNN으로 MNIST 손글씨 분류하기\n",
        "\n",
        "- 1번 레이어 : 합성곱층(Convolutional layer)\n",
        " - 합성곱(in_channel = 1, out_channel = 32, kernel_size=3, stride=1, padding=1) + 활성화 함수 ReLU\n",
        " - 맥스풀링(kernel_size=2, stride=2))\n",
        "\n",
        "- 2번 레이어 : 합성곱층(Convolutional layer)\n",
        " - 합성곱(in_channel = 32, out_channel = 64, kernel_size=3, stride=1, padding=1) + 활성화 함수 ReLU\n",
        " - 맥스풀링(kernel_size=2, stride=2))\n",
        "\n",
        "- 3번 레이어 : 전결합층(Fully-Connected layer)\n",
        " - 전결합층 (입력 **????** / 출력 10)"
      ],
      "metadata": {
        "id": "rHy1cKLkmc5L"
      }
    },
    {
      "cell_type": "code",
      "source": [
        "tmp = torch.randn((100, 1, 28, 28))\n",
        "conv1 = nn.Conv2d(1, 32, kernel_size=3, stride=1, padding=1)\n",
        "conv2 = nn.Conv2d(32, 64, kernel_size=3, stride=1, padding=1)\n",
        "maxpool = nn.MaxPool2d(kernel_size=2, stride=2)"
      ],
      "metadata": {
        "id": "ZN0bX3VypR5Z"
      },
      "execution_count": null,
      "outputs": []
    },
    {
      "cell_type": "code",
      "source": [
        "tmp = conv1(tmp)\n",
        "tmp.shape"
      ],
      "metadata": {
        "id": "8vUF8-BFplwc",
        "colab": {
          "base_uri": "https://localhost:8080/"
        },
        "outputId": "1e01be92-9cab-44ed-be0c-1699707eb91f"
      },
      "execution_count": null,
      "outputs": [
        {
          "output_type": "execute_result",
          "data": {
            "text/plain": [
              "torch.Size([100, 32, 28, 28])"
            ]
          },
          "metadata": {},
          "execution_count": 16
        }
      ]
    },
    {
      "cell_type": "code",
      "source": [
        "tmp = maxpool(tmp)\n",
        "tmp.shape"
      ],
      "metadata": {
        "id": "ulBu5VJjp4AE",
        "colab": {
          "base_uri": "https://localhost:8080/"
        },
        "outputId": "59add954-284f-4940-8f33-8ddc79cd8ca5"
      },
      "execution_count": null,
      "outputs": [
        {
          "output_type": "execute_result",
          "data": {
            "text/plain": [
              "torch.Size([100, 32, 14, 14])"
            ]
          },
          "metadata": {},
          "execution_count": 17
        }
      ]
    },
    {
      "cell_type": "code",
      "source": [
        "tmp = conv2(tmp)\n",
        "tmp.shape"
      ],
      "metadata": {
        "id": "lEXDBJXIp6Cp",
        "colab": {
          "base_uri": "https://localhost:8080/"
        },
        "outputId": "519816c2-fdce-4bea-add9-8a2f90992fc1"
      },
      "execution_count": null,
      "outputs": [
        {
          "output_type": "execute_result",
          "data": {
            "text/plain": [
              "torch.Size([100, 64, 14, 14])"
            ]
          },
          "metadata": {},
          "execution_count": 18
        }
      ]
    },
    {
      "cell_type": "code",
      "source": [
        "tmp = maxpool(tmp)\n",
        "tmp.shape"
      ],
      "metadata": {
        "id": "IM15W875p7ob",
        "colab": {
          "base_uri": "https://localhost:8080/"
        },
        "outputId": "7dd9d18c-29fa-46c4-8412-ea652600ea71"
      },
      "execution_count": null,
      "outputs": [
        {
          "output_type": "execute_result",
          "data": {
            "text/plain": [
              "torch.Size([100, 64, 7, 7])"
            ]
          },
          "metadata": {},
          "execution_count": 19
        }
      ]
    },
    {
      "cell_type": "code",
      "source": [
        "class CNN(torch.nn.Module):\n",
        "    def __init__(self):\n",
        "        super(CNN, self).__init__()\n",
        "        self.conv1 = nn.Conv2d(1, 32, kernel_size=3, stride=1, padding=1)\n",
        "        self.conv2 = nn.Conv2d(32, 64, kernel_size=3, stride=1, padding=1)\n",
        "        self.fc = torch.nn.Linear(7 * 7 * 64, 10)\n",
        "        self.maxpool = nn.MaxPool2d(kernel_size=2, stride=2)\n",
        "        self.relu = nn.ReLU()\n",
        "\n",
        "    def forward(self, x):\n",
        "        x = self.relu(self.conv1(x))\n",
        "        x = self.maxpool(x)\n",
        "        x = self.relu(self.conv2(x))\n",
        "        x = self.maxpool(x)\n",
        "        x = x.view(x.size(0), -1)\n",
        "        x = self.fc(x)\n",
        "        return x\n",
        "\n",
        "CNN_classifier = CNN()"
      ],
      "metadata": {
        "id": "pEE2KHQ2mgEH"
      },
      "execution_count": null,
      "outputs": []
    },
    {
      "cell_type": "code",
      "source": [
        "criterion = nn.CrossEntropyLoss()\n",
        "optimizer = torch.optim.Adam(CNN_classifier.parameters(), lr=1e-2)"
      ],
      "metadata": {
        "id": "TP4v0U3-qPYC"
      },
      "execution_count": null,
      "outputs": []
    },
    {
      "cell_type": "code",
      "source": [
        "for epoch in range(3):\n",
        "    for X, y in train_loader:\n",
        "        optimizer.zero_grad()\n",
        "        y_pred = CNN_classifier(X)\n",
        "        loss = criterion(y_pred, y)\n",
        "        loss.backward()\n",
        "        optimizer.step()\n",
        "\n",
        "    print(\"loss of {} epoch: {}\".format(epoch, loss.item()))"
      ],
      "metadata": {
        "id": "eX-GvmKKqQB8",
        "colab": {
          "base_uri": "https://localhost:8080/"
        },
        "outputId": "c675d108-93dc-4c36-f7f3-8a030a071b3c"
      },
      "execution_count": null,
      "outputs": [
        {
          "output_type": "stream",
          "name": "stdout",
          "text": [
            "loss of 0 epoch: 0.14416253566741943\n",
            "loss of 1 epoch: 0.10696843266487122\n",
            "loss of 2 epoch: 0.03293764591217041\n"
          ]
        }
      ]
    },
    {
      "cell_type": "code",
      "source": [
        "CNN_classifier.eval()\n",
        "test_loss = 0\n",
        "correct = 0\n",
        "with torch.no_grad():\n",
        "    for X_test, y in test_loader:\n",
        "        y_pred = CNN_classifier(X_test)\n",
        "        _, predicted = torch.max(y_pred.data, 1) #뒤에 1은 차원을 맞춤\n",
        "        correct += predicted.eq(y.data.view_as(predicted)).sum()\n",
        "\n",
        "    # 정확도 출력\n",
        "    data_num = len(test_loader.dataset)  # 데이터 총 건수\n",
        "    print('\\n테스트 데이터 예측 정확도: {}/{} ({:.0f}%)\\n'.format(correct,\n",
        "                                                   data_num, 100. * correct / data_num))"
      ],
      "metadata": {
        "id": "pPbrF2jpqZt8",
        "colab": {
          "base_uri": "https://localhost:8080/"
        },
        "outputId": "451562c8-ceed-45e6-e712-b581dfa37482"
      },
      "execution_count": null,
      "outputs": [
        {
          "output_type": "stream",
          "name": "stdout",
          "text": [
            "\n",
            "테스트 데이터 예측 정확도: 9774/10000 (98%)\n",
            "\n"
          ]
        }
      ]
    }
  ]
}